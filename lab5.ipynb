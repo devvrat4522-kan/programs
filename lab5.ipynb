{
 "cells": [
  {
   "cell_type": "code",
   "execution_count": 3,
   "metadata": {},
   "outputs": [
    {
     "name": "stdout",
     "output_type": "stream",
     "text": [
      "Obstacle detected, stop or change direction\n"
     ]
    }
   ],
   "source": [
    "class MPNeuron:\n",
    "    def __init__(self, weights, threshold):\n",
    "        self.weights = weights\n",
    "        self.threshold = threshold\n",
    "\n",
    "    def fire(self, inputs):\n",
    "        weighted_sum = sum(w * x for w, x in zip(self.weights, inputs))\n",
    "        if weighted_sum >= self.threshold:\n",
    "            return 1 \n",
    "        else:\n",
    "            return 0 \n",
    "        \n",
    "if __name__ == \"__main__\":\n",
    "    weights = [1, 1, 1] \n",
    "    threshold = 2\n",
    "    mp_neuron = MPNeuron(weights, threshold)\n",
    "\n",
    "    inputs = [0.8, 0.5, 0.3] \n",
    "    output = mp_neuron.fire(inputs)\n",
    "    if output == 1:\n",
    "        print(\"Safe to move (no obstacle detected)\")\n",
    "    else:\n",
    "        print(\"Obstacle detected, stop or change direction\")\n"
   ]
  },
  {
   "cell_type": "code",
   "execution_count": 1,
   "metadata": {},
   "outputs": [
    {
     "name": "stdout",
     "output_type": "stream",
     "text": [
      "AND Gate:\n",
      "0\n",
      "0\n",
      "0\n",
      "1\n",
      "\n",
      "OR Gate:\n",
      "0\n",
      "1\n",
      "1\n",
      "1\n",
      "\n",
      "NOT Gate:\n",
      "1\n",
      "0\n"
     ]
    }
   ],
   "source": [
    "class MPNeuron:\n",
    "    def __init__(self, weights, threshold):\n",
    "        self.weights = weights\n",
    "        self.threshold = threshold\n",
    "\n",
    "    def check(self, inputs):\n",
    "        weighted_sum = sum(w * x for w, x in zip(self.weights, inputs))\n",
    "        if weighted_sum >= self.threshold:\n",
    "            return 1 \n",
    "        else:\n",
    "            return 0 \n",
    "\n",
    "# Logical AND function\n",
    "and_neuron = MPNeuron(weights=[0.5, 0.5], threshold=1)\n",
    "print(\"AND Gate:\")\n",
    "print(and_neuron.check([0, 0]))  # Should output 0\n",
    "print(and_neuron.check([0, 1]))  # Should output 0\n",
    "print(and_neuron.check([1, 0]))  # Should output 0\n",
    "print(and_neuron.check([1, 1]))  # Should output 1\n",
    "\n",
    "# Logical OR function\n",
    "or_neuron = MPNeuron(weights=[0.5, 0.5], threshold=0.5)\n",
    "print(\"\\nOR Gate:\")\n",
    "print(or_neuron.check([0, 0]))  # Should output 0\n",
    "print(or_neuron.check([0, 1]))  # Should output 1\n",
    "print(or_neuron.check([1, 0]))  # Should output 1\n",
    "print(or_neuron.check([1, 1]))  # Should output 1\n",
    "\n",
    "# Logical NOT function\n",
    "not_neuron = MPNeuron(weights=[-1], threshold=0)\n",
    "print(\"\\nNOT Gate:\")\n",
    "print(not_neuron.check([0]))  # Should output 1\n",
    "print(not_neuron.check([1]))  # Should output 0\n"
   ]
  },
  {
   "cell_type": "code",
   "execution_count": 2,
   "metadata": {},
   "outputs": [
    {
     "name": "stdout",
     "output_type": "stream",
     "text": [
      "Output: 0.13909244787845804\n"
     ]
    }
   ],
   "source": [
    "import math\n",
    "\n",
    "def binary_sigmoid(x):\n",
    "    if x >= 0:\n",
    "        return 1\n",
    "    else:\n",
    "        return 0\n",
    "\n",
    "def bipolar_sigmoid(x):\n",
    "    return (1 - math.exp(-x)) / (1 + math.exp(-x))\n",
    "\n",
    "def neural_network(input_features, weights):\n",
    "    weighted_sum = sum([input_features[i] * weights[i] for i in range(len(input_features))])\n",
    "    output = bipolar_sigmoid(weighted_sum)\n",
    "    return output\n",
    "input_features = [0.5, -0.3, 0.1]\n",
    "weights = [0.2, -0.4, 0.6]\n",
    "output = neural_network(input_features, weights)\n",
    "\n",
    "print(\"Output:\", output)\n"
   ]
  },
  {
   "cell_type": "code",
   "execution_count": 6,
   "metadata": {},
   "outputs": [
    {
     "name": "stdout",
     "output_type": "stream",
     "text": [
      "AND Gate:\n",
      "[0, 0]  :  1\n",
      "[0, 1]  :  1\n",
      "[1, 0]  :  1\n",
      "[1, 1]  :  1\n",
      "\n",
      "OR Gate:\n",
      "[0, 0]  :  1\n",
      "[0, 1]  :  1\n",
      "[1, 0]  :  1\n",
      "[1, 1]  :  1\n",
      "\n",
      "XOR Gate:\n",
      "[0, 0]  :  1\n",
      "[0, 1]  :  1\n",
      "[1, 0]  :  1\n",
      "[1, 1]  :  1\n"
     ]
    }
   ],
   "source": [
    "\n",
    "def hebbs_learning_rule(inputs, outputs):\n",
    "    num_inputs = len(inputs[0])\n",
    "    num_outputs = len(outputs)\n",
    "    weights = [0] * num_inputs\n",
    "    for i in range(num_outputs):\n",
    "        for j in range(num_inputs):\n",
    "            weights[j] += inputs[i][j] * outputs[i]\n",
    "    return weights\n",
    "\n",
    "def predict(inputs, weights):\n",
    "    activation = sum([inputs[i] * weights[i] for i in range(len(inputs))])\n",
    "    return 1 if activation >= 0 else 0\n",
    "\n",
    "# AND gate\n",
    "and_inputs = [[0, 0], [0, 1], [1, 0], [1, 1]]\n",
    "and_outputs = [0, 0, 0, 1]\n",
    "and_weights = hebbs_learning_rule(and_inputs, and_outputs)\n",
    "\n",
    "print(\"AND Gate:\")\n",
    "for i, input_pair in enumerate(and_inputs):\n",
    "    output = predict(input_pair, and_weights)\n",
    "    print(input_pair, \" : \", output)\n",
    "\n",
    "# OR gate\n",
    "or_inputs = [[0, 0], [0, 1], [1, 0], [1, 1]]\n",
    "or_outputs = [0, 1, 1, 1]\n",
    "or_weights = hebbs_learning_rule(or_inputs, or_outputs)\n",
    "\n",
    "print(\"\\nOR Gate:\")\n",
    "for i, input_pair in enumerate(or_inputs):\n",
    "    output = predict(input_pair, or_weights)\n",
    "    print(input_pair, \" : \", output)\n",
    "\n",
    "# XOR gate\n",
    "xor_inputs = [[0, 0], [0, 1], [1, 0], [1, 1]]\n",
    "xor_outputs = [0, 1, 1, 0]\n",
    "xor_weights = hebbs_learning_rule(xor_inputs, xor_outputs)\n",
    "\n",
    "print(\"\\nXOR Gate:\")\n",
    "for i, input_pair in enumerate(xor_inputs):\n",
    "    output = predict(input_pair, xor_weights)\n",
    "    print(input_pair, \" : \", output)\n"
   ]
  }
 ],
 "metadata": {
  "kernelspec": {
   "display_name": "Python 3",
   "language": "python",
   "name": "python3"
  },
  "language_info": {
   "codemirror_mode": {
    "name": "ipython",
    "version": 3
   },
   "file_extension": ".py",
   "mimetype": "text/x-python",
   "name": "python",
   "nbconvert_exporter": "python",
   "pygments_lexer": "ipython3",
   "version": "3.9.7"
  }
 },
 "nbformat": 4,
 "nbformat_minor": 2
}
